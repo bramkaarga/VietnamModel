{
 "cells": [
  {
   "cell_type": "code",
   "execution_count": 14,
   "metadata": {
    "scrolled": true
   },
   "outputs": [],
   "source": [
    "import DTAG_model_EF as dtagm\n",
    "from importlib import reload\n",
    "reload(dtagm)\n",
    "import random\n",
    "import pickle\n",
    "\n",
    "from IPython.display import clear_output"
   ]
  },
  {
   "cell_type": "code",
   "execution_count": 2,
   "metadata": {
    "collapsed": true
   },
   "outputs": [],
   "source": [
    "import pandas as pd\n",
    "import seaborn as sns\n",
    "import geopandas as gpd\n",
    "import numpy as np\n",
    "import matplotlib.pyplot as plt\n",
    "import matplotlib.colors as colors\n",
    "from PIL import Image\n",
    "from scipy.stats import iqr\n",
    "%matplotlib inline"
   ]
  },
  {
   "cell_type": "code",
   "execution_count": 3,
   "metadata": {
    "collapsed": true
   },
   "outputs": [],
   "source": [
    "def gini(array):\n",
    "    \"\"\"Calculate the Gini coefficient of a numpy array.\"\"\"\n",
    "    #https://github.com/oliviaguest/gini/blob/master/gini.py\n",
    "    # based on bottom eq:\n",
    "    # http://www.statsdirect.com/help/generatedimages/equations/equation154.svg\n",
    "    # from:\n",
    "    # http://www.statsdirect.com/help/default.htm#nonparametric_methods/gini.htm\n",
    "    # All values are treated equally, arrays must be 1d:\n",
    "    array = array.flatten()\n",
    "    if np.amin(array) < 0:\n",
    "        # Values cannot be negative:\n",
    "        array -= np.amin(array)\n",
    "    # Values cannot be 0:\n",
    "    array += 0.0000001\n",
    "    # Values must be sorted:\n",
    "    array = np.sort(array)\n",
    "    # Index per array element:\n",
    "    index = np.arange(1,array.shape[0]+1)\n",
    "    # Number of array elements:\n",
    "    n = array.shape[0]\n",
    "    # Gini coefficient:\n",
    "    return ((np.sum((2 * index - n  - 1) * array)) / (n * np.sum(array)))\n",
    "\n",
    "def calculate_gini(CoupledModel):\n",
    "    district_df = pd.DataFrame(CoupledModel.profit_district_end)\n",
    "    no_district = len(district_df.columns)\n",
    "    district_df['gini'] = district_df.apply(lambda x: gini(np.array(x[:no_district])), axis=1)\n",
    "    return district_df['gini']"
   ]
  },
  {
   "cell_type": "markdown",
   "metadata": {},
   "source": [
    "## No policy"
   ]
  },
  {
   "cell_type": "code",
   "execution_count": 6,
   "metadata": {
    "scrolled": true
   },
   "outputs": [],
   "source": [
    "reload(dtagm)\n",
    "\n",
    "total_prod = {}\n",
    "temporal_prod = {}\n",
    "gini_coeffs = {}\n",
    "profit_district_avrg = {}\n",
    "profit_district_avrg_not_normalized = {}\n",
    "profit_district_temporal = {}\n",
    "\n",
    "for clim in [1,2]:\n",
    "    for lud in [1,2]:\n",
    "        for sed in [1,3,5]:\n",
    "            try:\n",
    "                del CoupledModel\n",
    "            except:\n",
    "                pass\n",
    "            \n",
    "            CoupledModel = dtagm.MetronamicaCoupled(#general setup of the model\n",
    "                                                    start_yr = 2012, \n",
    "                                                    end_yr = 2050,\n",
    "                                                    lu_map = 'Data//DTAG_NIAESLU2002_200m_v03a_wgs84utm48n_t05.tif',\n",
    "                                                    geoproj = 'model_v03a_baj_process_v03_calib08a.geoproj',\n",
    "                                                    log_option = 'cmd_log.xml',\n",
    "                                                    fert_map = 'Data//DTAG_fertilizer.tif',\n",
    "                                                    soil_map = 'Data//soil_DTAG_HWSD_full_recategorized.tif',\n",
    "                                                    districts_map = 'Data//DTAG_districts_recoded.tif',\n",
    "                                                    river_acc_map = 'Data//river_accessibility.tif',\n",
    "                                                    sediment_rate_map='Data//fig7_interpolation_distance1.tif',\n",
    "                                                    flood_coeff_map_all='Data//floodsim//all_s1_coeffs_v01.tif', \n",
    "                                                    flood_intercept_map_all='Data//floodsim//all_s1_intercepts_v01.tif',\n",
    "                                                    flood_coeff_map_jul='Data//floodsim//jul_s1_coeffs_v01.tif', \n",
    "                                                    flood_intercept_map_jul='Data//floodsim//jul_s1_intercepts_v01.tif',    \n",
    "\n",
    "                                                    #uncertainties parameters\n",
    "                                                    clim_scen=clim, #1: rcp4.5, 2: rcp8.5\n",
    "                                                    lud_scen=lud, #1: triple rice, 2: double rice\n",
    "                                                    TE=sed,                                        \n",
    "\n",
    "                                                    #policy parameters\n",
    "                                                    pol_fer=0,\n",
    "                                                    pol_discharge=0,\n",
    "                                                    pol_seed=0,\n",
    "                                                    p=False)\n",
    "            \n",
    "            CoupledModel.run()\n",
    "            clear_output()\n",
    "            \n",
    "            scenario = 'run_clim'+str(clim)+'_lud'+str(lud)+'_TE'+str(sed)\n",
    "            total_prod[scenario] = CoupledModel.total_rice_production\n",
    "            temporal_prod[scenario] = CoupledModel.annual_rice_production\n",
    "            gini_coeffs[scenario] = calculate_gini(CoupledModel)\n",
    "            profit_district_avrg[scenario] = CoupledModel.average_profit_district\n",
    "            profit_district_avrg_not_normalized[scenario] = CoupledModel.average_profit_district_not_normalized\n",
    "            profit_district_temporal[scenario] = CoupledModel.profit_district_end"
   ]
  },
  {
   "cell_type": "code",
   "execution_count": 7,
   "metadata": {
    "collapsed": true
   },
   "outputs": [],
   "source": [
    "results_NoPol = {'total_prod': total_prod,\n",
    "                 'temporal_prod': temporal_prod,\n",
    "                 'gini_coeffs': gini_coeffs,\n",
    "                 'profit_district_avrg:': profit_district_avrg,\n",
    "                 'profit_district_avrg_not_normalized':profit_district_avrg_not_normalized,\n",
    "                 'profit_district_temporal': profit_district_temporal}\n",
    "\n",
    "fn = 'results/results_NoPol.pkl'\n",
    "with open(fn, 'wb') as output:\n",
    "    pickle.dump(results_NoPol, output, pickle.HIGHEST_PROTOCOL)"
   ]
  },
  {
   "cell_type": "markdown",
   "metadata": {},
   "source": [
    "## High dikes policy"
   ]
  },
  {
   "cell_type": "code",
   "execution_count": 8,
   "metadata": {
    "collapsed": true
   },
   "outputs": [],
   "source": [
    "reload(dtagm)\n",
    "\n",
    "total_prod = {}\n",
    "temporal_prod = {}\n",
    "gini_coeffs = {}\n",
    "profit_district_avrg = {}\n",
    "profit_district_avrg_not_normalized = {}\n",
    "profit_district_temporal = {}\n",
    "\n",
    "for clim in [1,2]:\n",
    "    for lud in [1,2]:\n",
    "        for sed in [1,3,5]:\n",
    "            \n",
    "            try:\n",
    "                del CoupledModel_HD\n",
    "            except:\n",
    "                pass\n",
    "            \n",
    "            CoupledModel_HD = dtagm.MetronamicaCoupled(#general setup of the model\n",
    "                                                    start_yr = 2012, \n",
    "                                                    end_yr = 2050,\n",
    "                                                    lu_map = 'Data//DTAG_NIAESLU2002_200m_v03a_wgs84utm48n_t05.tif',\n",
    "                                                    geoproj = 'model_v03a_baj_process_v03_calib08a.geoproj',\n",
    "                                                    log_option = 'cmd_log.xml',\n",
    "                                                    fert_map = 'Data//DTAG_fertilizer.tif',\n",
    "                                                    soil_map = 'Data//soil_DTAG_HWSD_full_recategorized.tif',\n",
    "                                                    districts_map = 'Data//DTAG_districts_recoded.tif',\n",
    "                                                    river_acc_map = 'Data//river_accessibility.tif',\n",
    "                                                    sediment_rate_map='Data//fig7_interpolation_distance1.tif',\n",
    "                                                    flood_coeff_map_all='Data//floodsim//all_s1_coeffs_v01.tif', \n",
    "                                                    flood_intercept_map_all='Data//floodsim//all_s1_intercepts_v01.tif',\n",
    "                                                    flood_coeff_map_jul='Data//floodsim//jul_s1_coeffs_v01.tif', \n",
    "                                                    flood_intercept_map_jul='Data//floodsim//jul_s1_intercepts_v01.tif',    \n",
    "\n",
    "                                                    #uncertainties parameters\n",
    "                                                    clim_scen=clim, #1: rcp4.5, 2: rcp8.5\n",
    "                                                    lud_scen=lud, #1: triple rice, 2: double rice\n",
    "                                                    TE=sed,                                        \n",
    "\n",
    "                                                    #policy parameters\n",
    "                                                    pol_fer=0,\n",
    "                                                    pol_discharge=0,\n",
    "                                                    pol_seed=0,\n",
    "                                                    pol_dike_switch=1,\n",
    "                                                    p=False)\n",
    "            \n",
    "            CoupledModel_HD.run()\n",
    "            clear_output()\n",
    "            \n",
    "            scenario = 'run_clim'+str(clim)+'_lud'+str(lud)+'_TE'+str(sed)\n",
    "            total_prod[scenario] = CoupledModel_HD.total_rice_production\n",
    "            temporal_prod[scenario] = CoupledModel_HD.annual_rice_production\n",
    "            gini_coeffs[scenario] = calculate_gini(CoupledModel_HD)\n",
    "            profit_district_avrg[scenario] = CoupledModel_HD.average_profit_district\n",
    "            profit_district_avrg_not_normalized[scenario] = CoupledModel_HD.average_profit_district_not_normalized\n",
    "            profit_district_temporal[scenario] = CoupledModel_HD.profit_district_end"
   ]
  },
  {
   "cell_type": "code",
   "execution_count": 9,
   "metadata": {
    "collapsed": true
   },
   "outputs": [],
   "source": [
    "results_HighDikes = {'total_prod': total_prod,\n",
    "                     'temporal_prod': temporal_prod,\n",
    "                     'gini_coeffs': gini_coeffs,\n",
    "                     'profit_district_avrg:': profit_district_avrg,\n",
    "                     'profit_district_avrg_not_normalized':profit_district_avrg_not_normalized,\n",
    "                     'profit_district_temporal': profit_district_temporal}\n",
    "\n",
    "fn = 'results/results_HighDikes.pkl'\n",
    "with open(fn, 'wb') as output:\n",
    "    pickle.dump(results_HighDikes, output, pickle.HIGHEST_PROTOCOL)"
   ]
  },
  {
   "cell_type": "markdown",
   "metadata": {},
   "source": [
    "## Low dikes policy"
   ]
  },
  {
   "cell_type": "code",
   "execution_count": 10,
   "metadata": {
    "collapsed": true
   },
   "outputs": [],
   "source": [
    "reload(dtagm)\n",
    "\n",
    "total_prod = {}\n",
    "temporal_prod = {}\n",
    "gini_coeffs = {}\n",
    "profit_district_avrg = {}\n",
    "profit_district_avrg_not_normalized = {}\n",
    "profit_district_temporal = {}\n",
    "\n",
    "for clim in [1,2]:\n",
    "    for lud in [1,2]:\n",
    "        for sed in [1,3,5]:\n",
    "            \n",
    "            try:\n",
    "                del CoupledModel_LD\n",
    "            except:\n",
    "                pass\n",
    "            \n",
    "            CoupledModel_LD = dtagm.MetronamicaCoupled(#general setup of the model\n",
    "                                                    start_yr = 2012, \n",
    "                                                    end_yr = 2050,\n",
    "                                                    lu_map = 'Data//DTAG_NIAESLU2002_200m_v03a_wgs84utm48n_t05.tif',\n",
    "                                                    geoproj = 'model_v03a_baj_process_v03_calib08a.geoproj',\n",
    "                                                    log_option = 'cmd_log.xml',\n",
    "                                                    fert_map = 'Data//DTAG_fertilizer.tif',\n",
    "                                                    soil_map = 'Data//soil_DTAG_HWSD_full_recategorized.tif',\n",
    "                                                    districts_map = 'Data//DTAG_districts_recoded.tif',\n",
    "                                                    river_acc_map = 'Data//river_accessibility.tif',\n",
    "                                                    sediment_rate_map='Data//fig7_interpolation_distance1.tif',\n",
    "                                                    flood_coeff_map_all='Data//floodsim//all_s1_coeffs_v01.tif', \n",
    "                                                    flood_intercept_map_all='Data//floodsim//all_s1_intercepts_v01.tif',\n",
    "                                                    flood_coeff_map_jul='Data//floodsim//jul_s1_coeffs_v01.tif', \n",
    "                                                    flood_intercept_map_jul='Data//floodsim//jul_s1_intercepts_v01.tif',    \n",
    "\n",
    "                                                    #uncertainties parameters\n",
    "                                                    clim_scen=clim, #1: rcp4.5, 2: rcp8.5\n",
    "                                                    lud_scen=lud, #1: triple rice, 2: double rice\n",
    "                                                    TE=sed,                                        \n",
    "\n",
    "                                                    #policy parameters\n",
    "                                                    pol_fer=0,\n",
    "                                                    pol_discharge=0,\n",
    "                                                    pol_seed=0,\n",
    "                                                    pol_dike_switch=2,\n",
    "                                                    p=False)\n",
    "            \n",
    "            CoupledModel_LD.run()\n",
    "            clear_output()\n",
    "            \n",
    "            scenario = 'run_clim'+str(clim)+'_lud'+str(lud)+'_TE'+str(sed)\n",
    "            total_prod[scenario] = CoupledModel_LD.total_rice_production\n",
    "            temporal_prod[scenario] = CoupledModel_LD.annual_rice_production\n",
    "            gini_coeffs[scenario] = calculate_gini(CoupledModel_LD)\n",
    "            profit_district_avrg[scenario] = CoupledModel_LD.average_profit_district\n",
    "            profit_district_avrg_not_normalized[scenario] = CoupledModel_LD.average_profit_district_not_normalized\n",
    "            profit_district_temporal[scenario] = CoupledModel_LD.profit_district_end"
   ]
  },
  {
   "cell_type": "code",
   "execution_count": 11,
   "metadata": {
    "collapsed": true
   },
   "outputs": [],
   "source": [
    "results_LowDikes = {'total_prod': total_prod,\n",
    "                    'temporal_prod': temporal_prod,\n",
    "                    'gini_coeffs': gini_coeffs,\n",
    "                    'profit_district_avrg:': profit_district_avrg,\n",
    "                    'profit_district_avrg_not_normalized':profit_district_avrg_not_normalized,\n",
    "                    'profit_district_temporal': profit_district_temporal}\n",
    "\n",
    "fn = 'results/results_LowDikes.pkl'\n",
    "with open(fn, 'wb') as output:\n",
    "    pickle.dump(results_LowDikes, output, pickle.HIGHEST_PROTOCOL)"
   ]
  },
  {
   "cell_type": "markdown",
   "metadata": {},
   "source": [
    "## Fertilizer Policy"
   ]
  },
  {
   "cell_type": "code",
   "execution_count": 12,
   "metadata": {
    "collapsed": true
   },
   "outputs": [],
   "source": [
    "reload(dtagm)\n",
    "\n",
    "total_prod = {}\n",
    "temporal_prod = {}\n",
    "gini_coeffs = {}\n",
    "profit_district_avrg = {}\n",
    "profit_district_avrg_not_normalized = {}\n",
    "profit_district_temporal = {}\n",
    "\n",
    "for clim in [1,2]:\n",
    "    for lud in [1,2]:\n",
    "        for sed in [1,3,5]:\n",
    "            \n",
    "            try:\n",
    "                del CoupledModel_F\n",
    "            except:\n",
    "                pass\n",
    "            \n",
    "            CoupledModel_F = dtagm.MetronamicaCoupled(#general setup of the model\n",
    "                                                    start_yr = 2012, \n",
    "                                                    end_yr = 2050,\n",
    "                                                    lu_map = 'Data//DTAG_NIAESLU2002_200m_v03a_wgs84utm48n_t05.tif',\n",
    "                                                    geoproj = 'model_v03a_baj_process_v03_calib08a.geoproj',\n",
    "                                                    log_option = 'cmd_log.xml',\n",
    "                                                    fert_map = 'Data//DTAG_fertilizer.tif',\n",
    "                                                    soil_map = 'Data//soil_DTAG_HWSD_full_recategorized.tif',\n",
    "                                                    districts_map = 'Data//DTAG_districts_recoded.tif',\n",
    "                                                    river_acc_map = 'Data//river_accessibility.tif',\n",
    "                                                    sediment_rate_map='Data//fig7_interpolation_distance1.tif',\n",
    "                                                    flood_coeff_map_all='Data//floodsim//all_s1_coeffs_v01.tif', \n",
    "                                                    flood_intercept_map_all='Data//floodsim//all_s1_intercepts_v01.tif',\n",
    "                                                    flood_coeff_map_jul='Data//floodsim//jul_s1_coeffs_v01.tif', \n",
    "                                                    flood_intercept_map_jul='Data//floodsim//jul_s1_intercepts_v01.tif',    \n",
    "\n",
    "                                                    #uncertainties parameters\n",
    "                                                    clim_scen=clim, #1: rcp4.5, 2: rcp8.5\n",
    "                                                    lud_scen=lud, #1: triple rice, 2: double rice\n",
    "                                                    TE=sed,                                        \n",
    "\n",
    "                                                    #policy parameters\n",
    "                                                    pol_fer=3,\n",
    "                                                    pol_discharge=0,\n",
    "                                                    pol_seed=0,\n",
    "                                                    p=False)\n",
    "            \n",
    "            CoupledModel_F.run()\n",
    "            clear_output()\n",
    "            \n",
    "            scenario = 'run_clim'+str(clim)+'_lud'+str(lud)+'_TE'+str(sed)\n",
    "            total_prod[scenario] = CoupledModel_F.total_rice_production\n",
    "            temporal_prod[scenario] = CoupledModel_F.annual_rice_production\n",
    "            gini_coeffs[scenario] = calculate_gini(CoupledModel_F)\n",
    "            profit_district_avrg[scenario] = CoupledModel_F.average_profit_district\n",
    "            profit_district_avrg_not_normalized[scenario] = CoupledModel_F.average_profit_district_not_normalized\n",
    "            profit_district_temporal[scenario] = CoupledModel_F.profit_district_end"
   ]
  },
  {
   "cell_type": "code",
   "execution_count": 13,
   "metadata": {
    "collapsed": true
   },
   "outputs": [],
   "source": [
    "results_Fertilizer = {'total_prod': total_prod,\n",
    "                      'temporal_prod': temporal_prod,\n",
    "                      'gini_coeffs': gini_coeffs,\n",
    "                      'profit_district_avrg:': profit_district_avrg,\n",
    "                      'profit_district_avrg_not_normalized':profit_district_avrg_not_normalized,\n",
    "                      'profit_district_temporal': profit_district_temporal}\n",
    "\n",
    "fn = 'results/results_Fertilizer.pkl'\n",
    "with open(fn, 'wb') as output:\n",
    "    pickle.dump(results_Fertilizer, output, pickle.HIGHEST_PROTOCOL)"
   ]
  },
  {
   "cell_type": "code",
   "execution_count": null,
   "metadata": {
    "collapsed": true
   },
   "outputs": [],
   "source": []
  }
 ],
 "metadata": {
  "kernelspec": {
   "display_name": "Python [conda env:py36_dtag01]",
   "language": "python",
   "name": "conda-env-py36_dtag01-py"
  },
  "language_info": {
   "codemirror_mode": {
    "name": "ipython",
    "version": 3
   },
   "file_extension": ".py",
   "mimetype": "text/x-python",
   "name": "python",
   "nbconvert_exporter": "python",
   "pygments_lexer": "ipython3",
   "version": "3.6.3"
  }
 },
 "nbformat": 4,
 "nbformat_minor": 2
}
